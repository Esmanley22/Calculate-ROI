{
 "cells": [
  {
   "cell_type": "code",
   "execution_count": 119,
   "id": "a528336f",
   "metadata": {},
   "outputs": [
    {
     "name": "stdout",
     "output_type": "stream",
     "text": [
      "How much is the property?165000\n",
      "How many rooms are you renting?2\n",
      "What is the amount of other monthly incomes from the property?\n",
      "Including laundry and etc.?\n",
      "0\n",
      "Your total monthly income will be 825.0 per unit\n",
      "Your total monthly income will be 1650.0 for all units\n",
      "How much are your taxes going to be?200\n",
      "How much is your insurance going to be?40\n",
      "How much is your HOA going to require?20\n",
      "How much is your Mortgage going to be?500\n",
      "What other monthly expenses will you have?0\n",
      "Your total monthly expenses will be -760.0\n",
      "How much money was the down payment?10000\n",
      "How much was the closing cost?2000\n",
      "If there was any other costs for your property how much was it?0\n",
      "Your total Cash On Cash ROI is 89.0%\n"
     ]
    }
   ],
   "source": [
    "def Monthly_Income():\n",
    "    Total_Property_Cost = float(input(f'How much is the property?'))\n",
    "    Total_Renting_Spaces = float(input(f'How many rooms are you renting?'))\n",
    "    Total_Other_Income = float(input(f'What is the amount of other monthly incomes from the property?\\nIncluding laundry and etc.?\\n'))\n",
    "    global Total_Monthly_Income\n",
    "    Total_Monthly_Income_per_unit = ((Total_Property_Cost/100) / Total_Renting_Spaces) + Total_Other_Income\n",
    "    Total_Monthly_Income = (Total_Property_Cost/100) + Total_Other_Income\n",
    "    print(f'Your total monthly income will be {Total_Monthly_Income_per_unit} per unit')\n",
    "    print(f'Your total monthly income will be {Total_Monthly_Income} for all units')\n",
    "    return Total_Monthly_Income\n",
    "    \n",
    "def Monthly_Expenses():\n",
    "    Taxes = float(input(f'How much are your taxes going to be?'))\n",
    "    Insurance = float(input(f'How much is your insurance going to be?'))\n",
    "    HOA = float(input(f'How much is your HOA going to require?'))\n",
    "    Mortgage = float(input(f'How much is your Mortgage going to be?'))\n",
    "    Other = float(input(f'What other monthly expenses will you have?'))\n",
    "    global Total_Monthly_Expenses\n",
    "    Total_Monthly_Expenses = -abs(Taxes + Insurance + HOA + Mortgage + Other)\n",
    "    print(f'Your total monthly expenses will be {Total_Monthly_Expenses}')\n",
    "    return Total_Monthly_Expenses\n",
    "\n",
    "def Almost_Cash_On_CashROI():\n",
    "    Down_Payment = float(input(f'How much money was the down payment?'))\n",
    "    Closing_Costs = float(input(f'How much was the closing cost?'))\n",
    "    MISC_Costs = float(input(f'If there was any other costs for your property how much was it?'))\n",
    "    global Moneys\n",
    "    Moneys = Down_Payment + Closing_Costs + MISC_Costs\n",
    "\n",
    "Monthly_Income()\n",
    "Monthly_Expenses()\n",
    "Almost_Cash_On_CashROI()\n",
    "\n",
    "x = Total_Monthly_Income + Total_Monthly_Expenses\n",
    "Cash_On_Cash_ROI = ((x*12)/Moneys)*100\n",
    "print(f\"Your total Cash On Cash ROI is {Cash_On_Cash_ROI}%\")"
   ]
  },
  {
   "cell_type": "code",
   "execution_count": null,
   "id": "02cfa0c9",
   "metadata": {},
   "outputs": [],
   "source": []
  }
 ],
 "metadata": {
  "kernelspec": {
   "display_name": "Python 3 (ipykernel)",
   "language": "python",
   "name": "python3"
  },
  "language_info": {
   "codemirror_mode": {
    "name": "ipython",
    "version": 3
   },
   "file_extension": ".py",
   "mimetype": "text/x-python",
   "name": "python",
   "nbconvert_exporter": "python",
   "pygments_lexer": "ipython3",
   "version": "3.9.12"
  }
 },
 "nbformat": 4,
 "nbformat_minor": 5
}
